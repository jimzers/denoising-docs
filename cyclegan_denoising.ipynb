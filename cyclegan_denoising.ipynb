{
 "cells": [
  {
   "cell_type": "code",
   "execution_count": 1,
   "metadata": {},
   "outputs": [],
   "source": [
    "import os\n",
    "import glob\n",
    "import random\n",
    "import itertools"
   ]
  },
  {
   "cell_type": "code",
   "execution_count": 2,
   "metadata": {},
   "outputs": [],
   "source": [
    "import numpy as np\n",
    "import pandas as pd\n",
    "import matplotlib.pyplot as plt\n",
    "import cv2\n",
    "from PIL import Image\n",
    "%matplotlib inline"
   ]
  },
  {
   "cell_type": "code",
   "execution_count": 3,
   "metadata": {},
   "outputs": [],
   "source": [
    "import torch\n",
    "import torchvision as tv\n",
    "from torchvision import transforms\n",
    "import torch.nn as nn\n",
    "import torch.nn.functional as F\n",
    "import torch.optim as optim\n",
    "from torch.autograd import Variable\n",
    "import torchvision.transforms.functional as TF\n",
    "from torchvision.utils import save_image\n",
    "from torch.utils.data import Dataset, DataLoader"
   ]
  },
  {
   "cell_type": "code",
   "execution_count": 4,
   "metadata": {},
   "outputs": [
    {
     "name": "stdout",
     "output_type": "stream",
     "text": [
      "3.6.9 (default, Apr 18 2020, 01:56:04) \n",
      "[GCC 8.4.0]\n"
     ]
    }
   ],
   "source": [
    "import sys\n",
    "print(sys.version)"
   ]
  },
  {
   "cell_type": "code",
   "execution_count": 5,
   "metadata": {},
   "outputs": [],
   "source": [
    "# CUDA stuff\n",
    "use_cuda = torch.cuda.is_available()\n",
    "device = torch.device(\"cuda:0\" if use_cuda else \"cpu\")\n"
   ]
  },
  {
   "cell_type": "code",
   "execution_count": 6,
   "metadata": {},
   "outputs": [
    {
     "data": {
      "text/plain": [
       "True"
      ]
     },
     "execution_count": 6,
     "metadata": {},
     "output_type": "execute_result"
    }
   ],
   "source": [
    "use_cuda"
   ]
  },
  {
   "cell_type": "markdown",
   "metadata": {},
   "source": [
    "# use cycleGAN\n",
    "\n",
    "## what to use?\n",
    "\n",
    "for generator, use encoder/transformer/decoder combo\n",
    "\n",
    "for discriminator, use patchGAN"
   ]
  },
  {
   "cell_type": "markdown",
   "metadata": {},
   "source": [
    "# making generator\n",
    "\n",
    "we gotta make residual blocks"
   ]
  },
  {
   "cell_type": "code",
   "execution_count": 7,
   "metadata": {},
   "outputs": [],
   "source": [
    "# def activation_func(activation):\n",
    "#     return  nn.ModuleDict([\n",
    "#         ['relu', nn.ReLU(inplace=True)],\n",
    "#         ['leaky_relu', nn.LeakyReLU(negative_slope=0.01, inplace=True)],\n",
    "#         ['selu', nn.SELU(inplace=True)],\n",
    "#         ['none', nn.Identity()]\n",
    "#     ])[activation]"
   ]
  },
  {
   "cell_type": "code",
   "execution_count": 8,
   "metadata": {},
   "outputs": [],
   "source": [
    "class ResidualBlock(nn.Module):\n",
    "    def __init__(self, in_channels, out_channels, activation_fn):\n",
    "        super(ResidualBlock, self).__init__()\n",
    "        self.in_channels, self.out_channels, self.activation = in_channels, out_channels, activation\n",
    "        self.blocks = nn.Identity()\n",
    "        self.activation_fn = activation_fn\n",
    "        self.shortcut = nn.Identity()\n",
    "        \n",
    "        \n",
    "        \n",
    "    def forward(self, x):\n",
    "        residual = x\n",
    "        if self.apply_shortcut:\n",
    "            residual = self.shortcut(x)\n",
    "        x += residual\n",
    "        x = self.activate(x)\n",
    "        return x\n",
    "    \n",
    "    @property\n",
    "    def apply_shortcut(self):\n",
    "        return self.in_channels != self.out_channels\n",
    "        \n",
    "        "
   ]
  },
  {
   "cell_type": "code",
   "execution_count": 9,
   "metadata": {},
   "outputs": [],
   "source": [
    "class ResNetResidualBlock(ResidualBlock):\n",
    "    def __init__(self, in_channels, out_channels, activation_fn):\n",
    "        super(ResNetResidualBlock, self).__init__(in_channels, \n",
    "                                                       out_channels, \n",
    "                                                       *args,\n",
    "                                                       **kwargs)\n",
    "        \n",
    "        \n",
    "        \n",
    "        "
   ]
  },
  {
   "cell_type": "code",
   "execution_count": 10,
   "metadata": {},
   "outputs": [],
   "source": [
    "class ResNetBlock(nn.Module):\n",
    "    def __init__(self, input_dim):\n",
    "        super(ResNetBlock, self).__init__()\n",
    "        # input and output dim will be the same for our uses\n",
    "#         self.reflect1 = nn.ReflectionPad2d(1)\n",
    "#         self.reflect2 = nn.ReflectionPad2d(1)\n",
    "        self.conv1 = nn.Conv2d(input_dim, input_dim, kernel_size=3, padding=1, bias=True)\n",
    "        self.norm1 = nn.InstanceNorm2d(input_dim)\n",
    "        self.relu1 = nn.LeakyReLU(negative_slope=0.01, inplace=True)\n",
    "        \n",
    "        self.conv2 = nn.Conv2d(input_dim, input_dim, kernel_size=3, padding=1, bias=True)\n",
    "        self.norm2 = nn.InstanceNorm2d(input_dim)\n",
    "        \n",
    "#         self.relu_final = nn.LeakyReLU(negative_slope=0.01, inplace=True)\n",
    "        \n",
    "    def forward(self, x):\n",
    "#         x_new = self.reflect1(x)\n",
    "        x_new = self.conv1(x)\n",
    "        x_new = self.norm1(x_new)\n",
    "        x_new = self.relu1(x_new)\n",
    "#         x_new = self.reflect2(x_new)\n",
    "        x_new = self.conv2(x_new)\n",
    "        x_new = self.norm2(x_new)\n",
    "        out = x + x_new\n",
    "#         out = self.relu_final(x_new)\n",
    "        return out"
   ]
  },
  {
   "cell_type": "code",
   "execution_count": 11,
   "metadata": {},
   "outputs": [],
   "source": [
    "class CycleGenerator(nn.Module):\n",
    "    def __init__(self):\n",
    "        super(CycleGenerator, self).__init__()\n",
    "#         self.activations = nn.ModuleDict({\n",
    "#         'relu', nn.ReLU(inplace=True),\n",
    "#         'leaky_relu', nn.LeakyReLU(negative_slope=0.01, inplace=True),\n",
    "#         'selu', nn.SELU(inplace=True),\n",
    "#         'none', nn.Identity()})\n",
    "        \n",
    "        # do we need this many filter channels \n",
    "        # if we're doing a 1 channel image rather than 3 channel?\n",
    "        \n",
    "#         #encoder section\n",
    "#         self.conv1 = nn.Conv2d(in_channels=1, out_channels=64,\n",
    "#                                kernel_size=(7, 7), padding=0)\n",
    "#         self.conv2 = nn.Conv2d(64, 128, (3, 3), padding=(1, 1), stride=2)\n",
    "#         self.conv3 = nn.Conv2d(128, 256, (3, 3), padding=(1, 1), stride=2)\n",
    "        \n",
    "#         # in the transformer\n",
    "#         self.conv4 = nn.Conv2d(1, 128, (3, 3), padding=(1, 1), stride=2)\n",
    "#         https://github.com/junyanz/pytorch-CycleGAN-and-pix2pix/blob/master/models/networks.py\n",
    "        model = [nn.ReflectionPad2d(3),\n",
    "                 nn.Conv2d(in_channels=1, out_channels=64,\n",
    "                           kernel_size=7, padding=0,\n",
    "                           bias=True),\n",
    "                 nn.InstanceNorm2d(64),\n",
    "                 nn.LeakyReLU(negative_slope=0.01, inplace=True)]\n",
    "    \n",
    "        #downsampling layers\n",
    "        n_downsampling = 2\n",
    "        for i in range(n_downsampling):\n",
    "            mult = 2 ** i\n",
    "            model += [nn.Conv2d(in_channels=64*mult, out_channels=64*mult*2,\n",
    "                           kernel_size=3, stride=2, padding=1,\n",
    "                           bias=True),\n",
    "                      nn.InstanceNorm2d(64*mult*2),\n",
    "                      nn.LeakyReLU(negative_slope=0.01, inplace=True)]\n",
    "            \n",
    "        # resnet blocks layer\n",
    "        num_resnet_blocks = 6\n",
    "        for i in range(num_resnet_blocks):\n",
    "            model += [ResNetBlock(64*mult*2)]\n",
    "            \n",
    "        # upsampling layers\n",
    "        for i in range(n_downsampling):\n",
    "            mult = 2 ** (n_downsampling - i)\n",
    "            model += [nn.ConvTranspose2d(in_channels=64*mult, out_channels=int(64*mult/2),\n",
    "                           kernel_size=3, stride=2, padding=1, output_padding=1,\n",
    "                           bias=True),\n",
    "                      nn.InstanceNorm2d(int(64*mult/2)),\n",
    "                      nn.LeakyReLU(negative_slope=0.01, inplace=True)]\n",
    "        model += [nn.ReflectionPad2d(3)]\n",
    "        model += [nn.Conv2d(64, 1, kernel_size=7, padding=0)]\n",
    "        model += [nn.Tanh()]\n",
    "        \n",
    "        self.model = nn.Sequential(*model)\n",
    "        \n",
    "            \n",
    "        \n",
    "    def forward(self, x):\n",
    "        return self.model(x)\n",
    "        "
   ]
  },
  {
   "cell_type": "code",
   "execution_count": 12,
   "metadata": {},
   "outputs": [],
   "source": [
    "class CycleDiscriminator(nn.Module):\n",
    "    def __init__(self):\n",
    "        super(CycleDiscriminator, self).__init__()\n",
    "        #https://github.com/aitorzip/PyTorch-CycleGAN/blob/master/models.py\n",
    "        \n",
    "        model = [\n",
    "#             nn.ReflectionPad2d(16),\n",
    "            nn.Conv2d(1, 64, kernel_size=4, stride=2, padding=1), nn.LeakyReLU(0.2, True)]\n",
    "        n_layers = 3 + 1\n",
    "        \n",
    "        nf_mult = 1\n",
    "        nf_mult_prev = 1\n",
    "        for n in range(1, n_layers):\n",
    "            nf_mult_prev = nf_mult\n",
    "            nf_mult = min(2 ** n, 8) # 2^n\n",
    "            model += [\n",
    "                nn.Conv2d(64 * nf_mult_prev, 64 * nf_mult, kernel_size=4, stride=2, padding=1, bias=True),\n",
    "                nn.InstanceNorm2d(64*nf_mult),\n",
    "                nn.LeakyReLU(0.2, True)\n",
    "            ]\n",
    "        nf_mult_prev = nf_mult\n",
    "        nf_mult = min(2 ** n, 8) # 2^n\n",
    "        model += [\n",
    "            nn.Conv2d(64 * nf_mult_prev, 64 * nf_mult, kernel_size=3, stride=1, padding=1, bias=True),\n",
    "            nn.InstanceNorm2d(64*nf_mult),\n",
    "            nn.LeakyReLU(0.2, True)\n",
    "        ]\n",
    "#         model += [nn.ZeroPad2d((1, 0, 1, 0))]\n",
    "#         model += [nn.Conv2d(64*nf_mult, 1, kernel_size=4, stride=1, padding=1)] # 1 channel prediction map\n",
    "        self.model = nn.Sequential(*model)\n",
    "        print(self.model)\n",
    "        self.poo = nn.Conv2d(64*nf_mult, 1, kernel_size=3, stride=1, padding=1)\n",
    "#         print(self.model)\n",
    "    def forward(self, x):\n",
    "        out = self.model(x)\n",
    "        print(\"--------before final layer--------\")\n",
    "        print(out.shape)\n",
    "        out = self.poo(out)\n",
    "        print(\"-------after---------\")\n",
    "        print(out.shape)\n",
    "        print(\"---------DEBUG FINISH--------\")\n",
    "        # get average classification of pixel reps of patches\n",
    "        print(F.avg_pool2d(out, out.size()[2:]))\n",
    "        print(F.avg_pool2d(out, out.size()[2:]).shape)\n",
    "        print(torch.squeeze(F.avg_pool2d(out, out.size()[2:])).shape)\n",
    "        return torch.squeeze(F.avg_pool2d(out, out.shape[2:]))\n",
    "#         return out"
   ]
  },
  {
   "cell_type": "code",
   "execution_count": 13,
   "metadata": {},
   "outputs": [
    {
     "name": "stdout",
     "output_type": "stream",
     "text": [
      "192\n"
     ]
    },
    {
     "data": {
      "text/plain": [
       "[Conv2d(1, 64, kernel_size=(4, 4), stride=(2, 2), padding=(1, 1)),\n",
       " LeakyReLU(negative_slope=0.2, inplace=True),\n",
       " Conv2d(64, 128, kernel_size=(4, 4), stride=(2, 2), padding=(1, 1)),\n",
       " InstanceNorm2d(128, eps=1e-05, momentum=0.1, affine=False, track_running_stats=False),\n",
       " LeakyReLU(negative_slope=0.2, inplace=True),\n",
       " Conv2d(128, 256, kernel_size=(4, 4), stride=(2, 2), padding=(1, 1)),\n",
       " InstanceNorm2d(256, eps=1e-05, momentum=0.1, affine=False, track_running_stats=False),\n",
       " LeakyReLU(negative_slope=0.2, inplace=True),\n",
       " Conv2d(256, 512, kernel_size=(4, 4), stride=(2, 2), padding=(1, 1)),\n",
       " InstanceNorm2d(512, eps=1e-05, momentum=0.1, affine=False, track_running_stats=False),\n",
       " LeakyReLU(negative_slope=0.2, inplace=True),\n",
       " Conv2d(512, 512, kernel_size=(4, 4), stride=(1, 1), padding=(1, 1)),\n",
       " InstanceNorm2d(512, eps=1e-05, momentum=0.1, affine=False, track_running_stats=False),\n",
       " LeakyReLU(negative_slope=0.2, inplace=True),\n",
       " Conv2d(512, 1, kernel_size=(4, 4), stride=(1, 1), padding=(1, 1))]"
      ]
     },
     "execution_count": 13,
     "metadata": {},
     "output_type": "execute_result"
    }
   ],
   "source": [
    "model = [nn.Conv2d(1, 64, kernel_size=4, stride=2, padding=1), nn.LeakyReLU(0.2, True)]\n",
    "n_layers = 4\n",
    "        \n",
    "nf_mult = 1\n",
    "nf_mult_prev = 1\n",
    "for n in range(1, n_layers):\n",
    "    nf_mult_prev = nf_mult\n",
    "    nf_mult = min(2 ** n, 8) # 2^n\n",
    "    model += [\n",
    "        nn.Conv2d(64 * nf_mult_prev, 64 * nf_mult, kernel_size=4, stride=2, padding=1, bias=True),\n",
    "        nn.InstanceNorm2d(64*nf_mult),\n",
    "        nn.LeakyReLU(0.2, True)\n",
    "    ]\n",
    "nf_mult_prev = nf_mult\n",
    "nf_mult = min(2 ** n, 8) # 2^n\n",
    "model += [\n",
    "    nn.Conv2d(64 * nf_mult_prev, 64 * nf_mult, kernel_size=4, stride=1, padding=1, bias=True),\n",
    "    nn.InstanceNorm2d(64*nf_mult),\n",
    "    nn.LeakyReLU(0.2, True)\n",
    "]\n",
    "print(64 * n)\n",
    "\n",
    "model += [nn.Conv2d(64*nf_mult, 1, kernel_size=4, stride=1, padding=1)] # 1 channel prediction map\n",
    "model"
   ]
  },
  {
   "cell_type": "code",
   "execution_count": 14,
   "metadata": {},
   "outputs": [],
   "source": [
    "# from collections import OrderedDict"
   ]
  },
  {
   "cell_type": "code",
   "execution_count": 15,
   "metadata": {},
   "outputs": [],
   "source": [
    "# def summary(input_size, model):\n",
    "#     def register_hook(module):\n",
    "#         def hook(module, input, output):\n",
    "#             class_name = str(module.__class__).split('.')[-1].split(\"'\")[0]\n",
    "#             module_idx = len(summary)\n",
    "\n",
    "#             m_key = '%s-%i' % (class_name, module_idx + 1)\n",
    "#             summary[m_key] = OrderedDict()\n",
    "#             summary[m_key]['input_shape'] = list(input[0].size())\n",
    "#             summary[m_key]['input_shape'][0] = -1\n",
    "#             summary[m_key]['output_shape'] = list(output.size())\n",
    "#             summary[m_key]['output_shape'][0] = -1\n",
    "\n",
    "#             params = 0\n",
    "#             if hasattr(module, 'weight'):\n",
    "#                 params += torch.prod(torch.LongTensor(list(module.weight.size())))\n",
    "#                 if module.weight.requires_grad:\n",
    "#                     summary[m_key]['trainable'] = True\n",
    "#                 else:\n",
    "#                     summary[m_key]['trainable'] = False\n",
    "#             if hasattr(module, 'bias'):\n",
    "#                 params += torch.prod(torch.LongTensor(list(module.bias.size())))\n",
    "#             summary[m_key]['nb_params'] = params\n",
    "\n",
    "#         if not isinstance(module, nn.Sequential) and \\\n",
    "#                 not isinstance(module, nn.ModuleList) and \\\n",
    "#                 not (module == model):\n",
    "#             hooks.append(module.register_forward_hook(hook))\n",
    "\n",
    "#     # check if there are multiple inputs to the network\n",
    "#     if isinstance(input_size[0], (list, tuple)):\n",
    "#         x = [Variable(torch.rand(1, *in_size)) for in_size in input_size]\n",
    "#     else:\n",
    "#         x = Variable(torch.rand(1, *input_size))\n",
    "\n",
    "#     # create properties\n",
    "#     summary = OrderedDict()\n",
    "#     hooks = []\n",
    "#     # register hook\n",
    "#     model.apply(register_hook)\n",
    "#     # make a forward pass\n",
    "#     model.forward(x)\n",
    "#     # remove these hooks\n",
    "#     for h in hooks:\n",
    "#         h.remove()\n",
    "\n",
    "#     return summary"
   ]
  },
  {
   "cell_type": "code",
   "execution_count": 16,
   "metadata": {},
   "outputs": [],
   "source": [
    "# model.forward()"
   ]
  },
  {
   "cell_type": "code",
   "execution_count": 17,
   "metadata": {
    "scrolled": true
   },
   "outputs": [],
   "source": [
    "\n",
    "# https://github.com/aitorzip/PyTorch-CycleGAN/blob/master/utils.py\n",
    "class ImageBuffer():\n",
    "    def __init__(self, max_size=50):\n",
    "        assert max_size > 0\n",
    "        self.max_size = max_size\n",
    "        self.data = []\n",
    "    \n",
    "    def push_and_pop(self, data):\n",
    "        to_return = []\n",
    "        for elem in data:\n",
    "            elem = torch.unsqueeze(elem, 0)\n",
    "            if len(self.data) < self.max_size:\n",
    "                self.data.append(elem)\n",
    "                to_return.append(elem)\n",
    "            else:\n",
    "                # half chance to randomly pick a data pt from history, \n",
    "                # otherwise just pick the selected data pt and don't add to history \n",
    "                if random.uniform(0, 1) < 0.5:\n",
    "                    idx = random.randint(0, self.max_size - 1)\n",
    "                    to_return.append(self.data[i].clone())\n",
    "                    self.data[i] = elem\n",
    "                else:\n",
    "                    to_return.append(elem)\n",
    "        return torch.cat(to_return)\n",
    "                    \n",
    "                "
   ]
  },
  {
   "cell_type": "code",
   "execution_count": 18,
   "metadata": {},
   "outputs": [],
   "source": [
    "class DocumentsDataset(Dataset):\n",
    "    def __init__(self, dirty_dir, clean_dir, transform=None, aligned=False):\n",
    "        super(DocumentsDataset, self).__init__()\n",
    "        self.dirty_arr = glob.glob(os.path.join(dirty_dir, '*.png'))\n",
    "        self.clean_arr = glob.glob(os.path.join(clean_dir, '*.png'))\n",
    "        self.dirty_dir = dirty_dir\n",
    "        self.clean_dir = clean_dir\n",
    "        self.transform = transform\n",
    "        self.aligned = aligned\n",
    "    \n",
    "    def __len__(self):\n",
    "        # could be dirty arr or clean arr, shouldn't matter\n",
    "        return max(len(self.dirty_arr), len(self.clean_arr))\n",
    "    \n",
    "    def __getitem__(self, index):\n",
    "        \"\"\"Generate one sample of data, based on dirty data\"\"\"\n",
    "        \n",
    "        # grab a random index for each. the modulus allows overflow, and makes it unaligned if overflow\n",
    "        idx_dirty = index % len(self.dirty_arr)\n",
    "        if self.aligned:\n",
    "            idx_clean = index % len(self.clean_arr)\n",
    "        else:\n",
    "            idx_clean = random.randint(0, len(self.clean_arr) - 1)\n",
    "        \n",
    "        dirty_img_name = os.path.basename(self.dirty_arr[idx_dirty])\n",
    "        clean_img_name = os.path.basename(self.clean_arr[idx_clean])\n",
    "        dirty_path = os.path.join(self.dirty_dir, dirty_img_name)\n",
    "        clean_path = os.path.join(self.clean_dir, clean_img_name)\n",
    "        transformed_dirty = Image.open(dirty_path)\n",
    "        transformed_clean = Image.open(clean_path)\n",
    "        \n",
    "        if self.transform:\n",
    "            # notice how with each transform, they are each independent.\n",
    "            # this allows the random crop and flips to be different with each img\n",
    "            # because cyclegan is meant for unpaired it won't matter\n",
    "            transformed_dirty = self.transform(transformed_dirty)\n",
    "            transformed_clean = self.transform(transformed_clean)\n",
    "            \n",
    "        # because the image is single channel, we need to unsqueeze so it shows that single channel.\n",
    "#         transformed_dirty = torch.unsqueeze(transformed_dirty, dim=0)\n",
    "#         transformed_clean = torch.unsqueeze(transformed_clean, dim=0)\n",
    "        \n",
    "        return {'dirty': transformed_dirty, 'clean': transformed_clean}"
   ]
  },
  {
   "cell_type": "code",
   "execution_count": 19,
   "metadata": {},
   "outputs": [],
   "source": [
    "arr = Image.open('./data/train/101.png')"
   ]
  },
  {
   "cell_type": "code",
   "execution_count": 20,
   "metadata": {},
   "outputs": [
    {
     "data": {
      "text/plain": [
       "(420, 540)"
      ]
     },
     "execution_count": 20,
     "metadata": {},
     "output_type": "execute_result"
    }
   ],
   "source": [
    "np.array(arr, dtype=np.float32).shape"
   ]
  },
  {
   "cell_type": "code",
   "execution_count": 21,
   "metadata": {},
   "outputs": [
    {
     "data": {
      "text/plain": [
       "['./data/train/36.png',\n",
       " './data/train/140.png',\n",
       " './data/train/105.png',\n",
       " './data/train/56.png',\n",
       " './data/train/114.png',\n",
       " './data/train/17.png',\n",
       " './data/train/179.png',\n",
       " './data/train/2.png',\n",
       " './data/train/68.png',\n",
       " './data/train/186.png',\n",
       " './data/train/90.png',\n",
       " './data/train/80.png',\n",
       " './data/train/162.png',\n",
       " './data/train/96.png',\n",
       " './data/train/21.png',\n",
       " './data/train/78.png',\n",
       " './data/train/26.png',\n",
       " './data/train/81.png',\n",
       " './data/train/198.png',\n",
       " './data/train/119.png',\n",
       " './data/train/149.png',\n",
       " './data/train/108.png',\n",
       " './data/train/188.png',\n",
       " './data/train/180.png',\n",
       " './data/train/194.png',\n",
       " './data/train/177.png',\n",
       " './data/train/14.png',\n",
       " './data/train/164.png',\n",
       " './data/train/135.png',\n",
       " './data/train/171.png',\n",
       " './data/train/144.png',\n",
       " './data/train/146.png',\n",
       " './data/train/185.png',\n",
       " './data/train/200.png',\n",
       " './data/train/42.png',\n",
       " './data/train/35.png',\n",
       " './data/train/66.png',\n",
       " './data/train/113.png',\n",
       " './data/train/59.png',\n",
       " './data/train/89.png',\n",
       " './data/train/173.png',\n",
       " './data/train/92.png',\n",
       " './data/train/167.png',\n",
       " './data/train/111.png',\n",
       " './data/train/93.png',\n",
       " './data/train/212.png',\n",
       " './data/train/123.png',\n",
       " './data/train/86.png',\n",
       " './data/train/101.png',\n",
       " './data/train/98.png',\n",
       " './data/train/75.png',\n",
       " './data/train/153.png',\n",
       " './data/train/107.png',\n",
       " './data/train/215.png',\n",
       " './data/train/116.png',\n",
       " './data/train/150.png',\n",
       " './data/train/168.png',\n",
       " './data/train/201.png',\n",
       " './data/train/6.png',\n",
       " './data/train/129.png',\n",
       " './data/train/203.png',\n",
       " './data/train/110.png',\n",
       " './data/train/141.png',\n",
       " './data/train/57.png',\n",
       " './data/train/206.png',\n",
       " './data/train/210.png',\n",
       " './data/train/156.png',\n",
       " './data/train/174.png',\n",
       " './data/train/72.png',\n",
       " './data/train/204.png',\n",
       " './data/train/60.png',\n",
       " './data/train/30.png',\n",
       " './data/train/32.png',\n",
       " './data/train/104.png',\n",
       " './data/train/65.png',\n",
       " './data/train/48.png',\n",
       " './data/train/183.png',\n",
       " './data/train/51.png',\n",
       " './data/train/216.png',\n",
       " './data/train/191.png',\n",
       " './data/train/23.png',\n",
       " './data/train/158.png',\n",
       " './data/train/126.png',\n",
       " './data/train/44.png',\n",
       " './data/train/170.png',\n",
       " './data/train/161.png',\n",
       " './data/train/128.png',\n",
       " './data/train/77.png',\n",
       " './data/train/192.png',\n",
       " './data/train/197.png',\n",
       " './data/train/18.png',\n",
       " './data/train/207.png',\n",
       " './data/train/134.png',\n",
       " './data/train/152.png',\n",
       " './data/train/69.png',\n",
       " './data/train/50.png',\n",
       " './data/train/29.png',\n",
       " './data/train/54.png',\n",
       " './data/train/11.png',\n",
       " './data/train/27.png',\n",
       " './data/train/99.png',\n",
       " './data/train/33.png',\n",
       " './data/train/125.png',\n",
       " './data/train/3.png',\n",
       " './data/train/117.png',\n",
       " './data/train/15.png',\n",
       " './data/train/176.png',\n",
       " './data/train/63.png',\n",
       " './data/train/182.png',\n",
       " './data/train/147.png',\n",
       " './data/train/165.png',\n",
       " './data/train/62.png',\n",
       " './data/train/189.png',\n",
       " './data/train/195.png',\n",
       " './data/train/120.png',\n",
       " './data/train/45.png',\n",
       " './data/train/12.png',\n",
       " './data/train/159.png',\n",
       " './data/train/122.png',\n",
       " './data/train/137.png',\n",
       " './data/train/87.png',\n",
       " './data/train/131.png',\n",
       " './data/train/138.png',\n",
       " './data/train/102.png',\n",
       " './data/train/9.png',\n",
       " './data/train/132.png',\n",
       " './data/train/47.png',\n",
       " './data/train/38.png',\n",
       " './data/train/71.png',\n",
       " './data/train/74.png',\n",
       " './data/train/155.png',\n",
       " './data/train/39.png',\n",
       " './data/train/83.png',\n",
       " './data/train/24.png',\n",
       " './data/train/209.png',\n",
       " './data/train/143.png',\n",
       " './data/train/20.png',\n",
       " './data/train/5.png',\n",
       " './data/train/84.png',\n",
       " './data/train/53.png',\n",
       " './data/train/8.png',\n",
       " './data/train/213.png',\n",
       " './data/train/95.png',\n",
       " './data/train/41.png']"
      ]
     },
     "execution_count": 21,
     "metadata": {},
     "output_type": "execute_result"
    }
   ],
   "source": [
    "test_arr = glob.glob(os.path.join('./data/train', '*.png'))\n",
    "test_arr\n"
   ]
  },
  {
   "cell_type": "code",
   "execution_count": 22,
   "metadata": {},
   "outputs": [
    {
     "data": {
      "text/plain": [
       "'/home/jimzers/Documents/denoising-docs/data/train/105.png'"
      ]
     },
     "execution_count": 22,
     "metadata": {},
     "output_type": "execute_result"
    }
   ],
   "source": [
    "os.path.abspath(test_arr[2])"
   ]
  },
  {
   "cell_type": "code",
   "execution_count": 23,
   "metadata": {},
   "outputs": [],
   "source": [
    "img_h = 256\n",
    "img_w = 256\n",
    "# params = {'batch_size': 16,\n",
    "#           'shuffle': True,\n",
    "#           'num_workers': 10}\n",
    "params = {'batch_size': 4,\n",
    "          'shuffle': True,\n",
    "          'num_workers': 10}\n",
    "trans = transforms.Compose([\n",
    "    transforms.Resize((int(img_h*1.12),int(img_w*1.12)), Image.BICUBIC), # make it bigger so random crop is more random\n",
    "    transforms.RandomCrop((img_h, img_w)),\n",
    "    transforms.RandomHorizontalFlip(),\n",
    "    transforms.ToTensor(),\n",
    "    transforms.Normalize((0.5,), (0.5,)) # mean, std of each channel. can provice a tuple for 3 dim images\n",
    "])\n",
    "training_set = DocumentsDataset(dirty_dir='./data/train/', clean_dir='./data/train_cleaned/', transform=trans)\n",
    "training_generator = DataLoader(training_set, **params)"
   ]
  },
  {
   "cell_type": "code",
   "execution_count": 24,
   "metadata": {},
   "outputs": [
    {
     "data": {
      "text/plain": [
       "<torch.utils.data.dataloader.DataLoader at 0x7fe3e8af7630>"
      ]
     },
     "execution_count": 24,
     "metadata": {},
     "output_type": "execute_result"
    }
   ],
   "source": [
    "training_generator\n"
   ]
  },
  {
   "cell_type": "code",
   "execution_count": 25,
   "metadata": {},
   "outputs": [],
   "source": [
    "dataiter = iter(training_generator)\n",
    "lol = dataiter.next()"
   ]
  },
  {
   "cell_type": "code",
   "execution_count": 26,
   "metadata": {},
   "outputs": [
    {
     "data": {
      "text/plain": [
       "(258, 540)"
      ]
     },
     "execution_count": 26,
     "metadata": {},
     "output_type": "execute_result"
    }
   ],
   "source": [
    "cv2.imread('./data/train/15.png', 0).shape"
   ]
  },
  {
   "cell_type": "code",
   "execution_count": 27,
   "metadata": {},
   "outputs": [
    {
     "data": {
      "text/plain": [
       "torch.Size([4, 1, 256, 256])"
      ]
     },
     "execution_count": 27,
     "metadata": {},
     "output_type": "execute_result"
    }
   ],
   "source": [
    "lol['dirty'].data.shape"
   ]
  },
  {
   "cell_type": "code",
   "execution_count": 28,
   "metadata": {
    "scrolled": false
   },
   "outputs": [
    {
     "data": {
      "text/plain": [
       "torch.Size([4, 1, 256, 256])"
      ]
     },
     "execution_count": 28,
     "metadata": {},
     "output_type": "execute_result"
    }
   ],
   "source": [
    "lol['dirty'].shape"
   ]
  },
  {
   "cell_type": "code",
   "execution_count": 29,
   "metadata": {},
   "outputs": [
    {
     "data": {
      "text/plain": [
       "array([[0.7254902 , 0.6862745 , 0.6784314 , ..., 0.37254906, 0.39607847,\n",
       "        0.48235297],\n",
       "       [0.7176471 , 0.6862745 , 0.6627451 , ..., 0.47450984, 0.49803925,\n",
       "        0.48235297],\n",
       "       [0.70980394, 0.7019608 , 0.7019608 , ..., 0.5372549 , 0.5686275 ,\n",
       "        0.58431375],\n",
       "       ...,\n",
       "       [0.6862745 , 0.7019608 , 0.7411765 , ..., 0.70980394, 0.70980394,\n",
       "        0.69411767],\n",
       "       [0.69411767, 0.69411767, 0.70980394, ..., 0.7176471 , 0.7019608 ,\n",
       "        0.7019608 ],\n",
       "       [0.69411767, 0.6784314 , 0.69411767, ..., 0.7411765 , 0.7176471 ,\n",
       "        0.7254902 ]], dtype=float32)"
      ]
     },
     "execution_count": 29,
     "metadata": {},
     "output_type": "execute_result"
    }
   ],
   "source": [
    "b = lol['dirty'][0].numpy()[0]\n",
    "b"
   ]
  },
  {
   "cell_type": "code",
   "execution_count": 30,
   "metadata": {},
   "outputs": [
    {
     "data": {
      "text/plain": [
       "<matplotlib.image.AxesImage at 0x7fe4ac8bb1d0>"
      ]
     },
     "execution_count": 30,
     "metadata": {},
     "output_type": "execute_result"
    },
    {
     "data": {
      "image/png": "[encoded data removed]",
      "text/plain": [
       "<Figure size 432x288 with 1 Axes>"
      ]
     },
     "metadata": {},
     "output_type": "display_data"
    }
   ],
   "source": [
    "plt.imshow(lol['dirty'][2].numpy()[0], cmap='gray')"
   ]
  },
  {
   "cell_type": "code",
   "execution_count": 31,
   "metadata": {},
   "outputs": [
    {
     "data": {
      "text/plain": [
       "<matplotlib.image.AxesImage at 0x7fe3e819dfd0>"
      ]
     },
     "execution_count": 31,
     "metadata": {},
     "output_type": "execute_result"
    },
    {
     "data": {
      "image/png": "[encoded data removed]",
      "text/plain": [
       "<Figure size 432x288 with 1 Axes>"
      ]
     },
     "metadata": {},
     "output_type": "display_data"
    }
   ],
   "source": [
    "plt.imshow(lol['clean'][2].numpy()[0], cmap='gray')"
   ]
  },
  {
   "cell_type": "code",
   "execution_count": 32,
   "metadata": {},
   "outputs": [],
   "source": [
    "# TODO: unsqueeze the resulting image"
   ]
  },
  {
   "cell_type": "code",
   "execution_count": 33,
   "metadata": {},
   "outputs": [],
   "source": [
    "def custom_lr(n_epochs, start_epoch, decay_epoch):\n",
    "    '''\n",
    "    returns a function that calcs learning rate for given epoch.\n",
    "    n_epochs (int) -> number of planned epochs\n",
    "    start_epoch -> the epoch number that the optimizer starts on\n",
    "    decay_epoch -> the epoch number to start decaying at\n",
    "    '''\n",
    "    return lambda epoch: 1.0 - max(0, epoch + start_epoch - decay_epoch)/(n_epochs - decay_epoch)"
   ]
  },
  {
   "cell_type": "code",
   "execution_count": 34,
   "metadata": {},
   "outputs": [
    {
     "name": "stdout",
     "output_type": "stream",
     "text": [
      "1\n",
      "2\n",
      "3\n"
     ]
    }
   ],
   "source": [
    "for i in range(1, 4):\n",
    "    print(i)"
   ]
  },
  {
   "cell_type": "code",
   "execution_count": 35,
   "metadata": {},
   "outputs": [],
   "source": [
    "# hyperparams\n",
    "n_epochs = 200\n",
    "decay_epoch = 100 # default 100\n",
    "lr = 0.0002 # default 0.0002\n",
    "batch_size = 4 # plz adjust\n",
    "# if resuming change this\n",
    "starting_epoch = 0\n",
    "\n"
   ]
  },
  {
   "cell_type": "code",
   "execution_count": 36,
   "metadata": {},
   "outputs": [],
   "source": [
    "# class CycleGAN(nn.Module):\n",
    "#     def __init__(self):\n",
    "#         '''\n",
    "#         init the cycle gan. add the loss functions\n",
    "#         add the models.\n",
    "#         add img buffer\n",
    "#         '''\n",
    "        \n",
    "#         #start with models\n",
    "#         generator_clean = CycleGenerator() # dirty to clean\n",
    "#         discriminator_clean = CycleDiscriminator() # clean is fake/real\n",
    "        \n",
    "#         generator_dirty = CycleGenerator() # clean to dirty\n",
    "#         discriminator_clean = CycleDiscriminator() # dirty is fake/real\n",
    "        \n",
    "#         # turn on cuda\n",
    "#         if use_cuda:\n",
    "#             generator_clean.cuda()\n",
    "#             discriminator_clean.cuda()\n",
    "#             generator_dirty.cuda()\n",
    "#             discriminator_dirty.cuda()\n",
    "        \n",
    "#         # init weights for stuff, apparently kaiming is better for conv nets?\n",
    "#         generator_clean.apply(nn.init.kaiming_uniform)\n",
    "#         discriminator_clean.apply(nn.init.kaiming_uniform)\n",
    "#         generator_dirty.apply(nn.init.kaiming_uniform)\n",
    "#         discriminator_dirty.apply(nn.init.kaiming_uniform)\n",
    "        \n",
    "#         # loss fns\n",
    "#         # also can add identity loss mentioned, but it is mainly for color channels. it is l1 loss as well\n",
    "#         loss_gan = nn.MSELoss()\n",
    "#         loss_cycle = nn.L1Loss()\n",
    "#         loss_identity = nn.L1Loss()\n",
    "        \n",
    "#         # optimizers\n",
    "#         # use default recommended values for first and second momentums on gradient accumulation\n",
    "#         opt_generators = optim.Adam(itertools.chain(generator_clean.parameters(),\n",
    "#                                                    generator_dirty.parameters()),\n",
    "#                                    lr=lr, betas=(0.5, 0.999))\n",
    "#         opt_d_clean = optim.Adam(discriminator_clean.parameters(), lr=lr, betas=(0.5, 0.999))\n",
    "#         opt_d_dirty = optim.Adam(discriminator_dirty.parameters(), lr=lr, betas=(0.5, 0.999))\n",
    "        \n",
    "#         scheduler_g = optim.lr_scheduler.LambdaLR(opt_generators, lr_lambda=custom_lr(n_epochs, starting_epoch, decay_epoch))\n",
    "#         scheduler_d_clean = optim.lr_scheduler.LambdaLR(opt_d_clean, lr_lambda=custom_lr(n_epochs, starting_epoch, decay_epoch))\n",
    "#         scheduler_d_dirty = optim.lr_scheduler.LambdaLR(opt_d_dirty, lr_lambda=custom_lr(n_epochs, starting_epoch, decay_epoch))\n",
    "        \n",
    "# #         Tensor = torch.cuda.FloatTensor if opt.cuda else torch.Tensor\n",
    "        \n",
    "        \n",
    "        \n",
    "#         # image buffers for gans\n",
    "#         fake_img_buffer_clean = ImageBuffer()\n",
    "#         fake_img_buffer_dirty = ImageBuffer()\n",
    "        \n",
    "        \n",
    "        \n",
    "        \n",
    "        "
   ]
  },
  {
   "cell_type": "code",
   "execution_count": 37,
   "metadata": {},
   "outputs": [],
   "source": [
    "# taken from https://github.com/junyanz/pytorch-CycleGAN-and-pix2pix/blob/master/models/networks.py\n",
    "\n",
    "init_type = 'kaiming'\n",
    "def init_func(m):  # define the initialization function\n",
    "        classname = m.__class__.__name__\n",
    "        if hasattr(m, 'weight') and (classname.find('Conv') != -1 or classname.find('Linear') != -1):\n",
    "            if init_type == 'normal':\n",
    "                nn.init.normal_(m.weight.data, 0.0, init_gain)\n",
    "            elif init_type == 'xavier':\n",
    "                nn.init.xavier_normal_(m.weight.data, gain=init_gain)\n",
    "            elif init_type == 'kaiming':\n",
    "                nn.init.kaiming_normal_(m.weight.data, a=0, mode='fan_in')\n",
    "                nn.init.kaiming_uniform_(m.weight.data, a=0, mode='fan_in')\n",
    "            elif init_type == 'orthogonal':\n",
    "                nn.init.orthogonal_(m.weight.data, gain=init_gain)\n",
    "            else:\n",
    "                raise NotImplementedError('initialization method [%s] is not implemented' % init_type)\n",
    "            if hasattr(m, 'bias') and m.bias is not None:\n",
    "                nn.init.constant_(m.bias.data, 0.0)\n",
    "        elif classname.find('BatchNorm2d') != -1:  # BatchNorm Layer's weight is not a matrix; only normal distribution applies.\n",
    "            nn.init.normal_(m.weight.data, 1.0, init_gain)\n",
    "            nn.init.constant_(m.bias.data, 0.0)\n",
    "        # what do i do for instance norm plzzzz"
   ]
  },
  {
   "cell_type": "markdown",
   "metadata": {},
   "source": [
    "# training cycle\n",
    "\n",
    "## generators\n",
    "\n",
    "generate both fake images for both mappings from clean / dirty\n",
    "\n",
    "also identity loss, where you put a dirty image as input to a clean to dirty and even though you gave it the target domain instead of input domain, it should still make a target domain that looks the same.\n",
    "\n",
    "(don't forget the gan loss for both generators!)\n",
    "\n",
    "also get cycle loss for both ways\n",
    "\n",
    "finally do total loss for both generators combined\n",
    "\n",
    "## discriminators\n",
    "\n",
    "the params for each are split but more or less the process is the same\n",
    "\n",
    "get loss on real stuff, fake stuff, and combined of both losses (averaged)\n",
    "\n",
    "also we can use the image buffer here to lower model oscillation\n",
    "\n",
    "\n"
   ]
  },
  {
   "cell_type": "code",
   "execution_count": 38,
   "metadata": {},
   "outputs": [
    {
     "data": {
      "text/plain": [
       "'torch.FloatTensor'"
      ]
     },
     "execution_count": 38,
     "metadata": {},
     "output_type": "execute_result"
    }
   ],
   "source": [
    "torch.ones(batch_size).type()"
   ]
  },
  {
   "cell_type": "code",
   "execution_count": 39,
   "metadata": {},
   "outputs": [
    {
     "data": {
      "text/plain": [
       "'torch.FloatTensor'"
      ]
     },
     "execution_count": 39,
     "metadata": {},
     "output_type": "execute_result"
    }
   ],
   "source": [
    "torch.zeros(batch_size).type()"
   ]
  },
  {
   "cell_type": "code",
   "execution_count": 40,
   "metadata": {},
   "outputs": [],
   "source": [
    "# model.forward()\n"
   ]
  },
  {
   "cell_type": "code",
   "execution_count": 41,
   "metadata": {
    "scrolled": false
   },
   "outputs": [
    {
     "name": "stdout",
     "output_type": "stream",
     "text": [
      "Sequential(\n",
      "  (0): Conv2d(1, 64, kernel_size=(4, 4), stride=(2, 2), padding=(1, 1))\n",
      "  (1): LeakyReLU(negative_slope=0.2, inplace=True)\n",
      "  (2): Conv2d(64, 128, kernel_size=(4, 4), stride=(2, 2), padding=(1, 1))\n",
      "  (3): InstanceNorm2d(128, eps=1e-05, momentum=0.1, affine=False, track_running_stats=False)\n",
      "  (4): LeakyReLU(negative_slope=0.2, inplace=True)\n",
      "  (5): Conv2d(128, 256, kernel_size=(4, 4), stride=(2, 2), padding=(1, 1))\n",
      "  (6): InstanceNorm2d(256, eps=1e-05, momentum=0.1, affine=False, track_running_stats=False)\n",
      "  (7): LeakyReLU(negative_slope=0.2, inplace=True)\n",
      "  (8): Conv2d(256, 512, kernel_size=(4, 4), stride=(2, 2), padding=(1, 1))\n",
      "  (9): InstanceNorm2d(512, eps=1e-05, momentum=0.1, affine=False, track_running_stats=False)\n",
      "  (10): LeakyReLU(negative_slope=0.2, inplace=True)\n",
      "  (11): Conv2d(512, 512, kernel_size=(3, 3), stride=(1, 1), padding=(1, 1))\n",
      "  (12): InstanceNorm2d(512, eps=1e-05, momentum=0.1, affine=False, track_running_stats=False)\n",
      "  (13): LeakyReLU(negative_slope=0.2, inplace=True)\n",
      ")\n",
      "Sequential(\n",
      "  (0): Conv2d(1, 64, kernel_size=(4, 4), stride=(2, 2), padding=(1, 1))\n",
      "  (1): LeakyReLU(negative_slope=0.2, inplace=True)\n",
      "  (2): Conv2d(64, 128, kernel_size=(4, 4), stride=(2, 2), padding=(1, 1))\n",
      "  (3): InstanceNorm2d(128, eps=1e-05, momentum=0.1, affine=False, track_running_stats=False)\n",
      "  (4): LeakyReLU(negative_slope=0.2, inplace=True)\n",
      "  (5): Conv2d(128, 256, kernel_size=(4, 4), stride=(2, 2), padding=(1, 1))\n",
      "  (6): InstanceNorm2d(256, eps=1e-05, momentum=0.1, affine=False, track_running_stats=False)\n",
      "  (7): LeakyReLU(negative_slope=0.2, inplace=True)\n",
      "  (8): Conv2d(256, 512, kernel_size=(4, 4), stride=(2, 2), padding=(1, 1))\n",
      "  (9): InstanceNorm2d(512, eps=1e-05, momentum=0.1, affine=False, track_running_stats=False)\n",
      "  (10): LeakyReLU(negative_slope=0.2, inplace=True)\n",
      "  (11): Conv2d(512, 512, kernel_size=(3, 3), stride=(1, 1), padding=(1, 1))\n",
      "  (12): InstanceNorm2d(512, eps=1e-05, momentum=0.1, affine=False, track_running_stats=False)\n",
      "  (13): LeakyReLU(negative_slope=0.2, inplace=True)\n",
      ")\n",
      "we are on step 0 for epoch 0\n",
      "torch.Size([4, 1, 256, 256])\n",
      "debug step\n",
      "torch.Size([4, 1, 256, 256])\n",
      "--------before final layer--------\n",
      "torch.Size([4, 512, 16, 16])\n",
      "-------after---------\n",
      "torch.Size([4, 1, 16, 16])\n",
      "---------DEBUG FINISH--------\n",
      "tensor([[[[0.4015]]],\n",
      "\n",
      "\n",
      "        [[[0.4135]]],\n",
      "\n",
      "\n",
      "        [[[0.4221]]],\n",
      "\n",
      "\n",
      "        [[[0.4094]]]], device='cuda:0', grad_fn=<AvgPool2DBackward>)\n",
      "torch.Size([4, 1, 1, 1])\n",
      "torch.Size([4])\n",
      "--------before final layer--------\n",
      "torch.Size([4, 512, 16, 16])\n",
      "-------after---------\n",
      "torch.Size([4, 1, 16, 16])\n",
      "---------DEBUG FINISH--------\n",
      "tensor([[[[-0.2697]]],\n",
      "\n",
      "\n",
      "        [[[-0.2551]]],\n",
      "\n",
      "\n",
      "        [[[-0.2638]]],\n",
      "\n",
      "\n",
      "        [[[-0.2669]]]], device='cuda:0', grad_fn=<AvgPool2DBackward>)\n",
      "torch.Size([4, 1, 1, 1])\n",
      "torch.Size([4])\n",
      "guess_fake_dirty shape\n",
      "torch.Size([4])\n",
      "tensor(0.4015, device='cuda:0', grad_fn=<SelectBackward>)\n",
      "true arr shape\n",
      "torch.Size([4])\n",
      "tensor(1.)\n"
     ]
    },
    {
     "ename": "RuntimeError",
     "evalue": "expected device cuda:0 but got device cpu",
     "output_type": "error",
     "traceback": [
      "\u001b[0;31m---------------------------------------------------------------------------\u001b[0m",
      "\u001b[0;31mRuntimeError\u001b[0m                              Traceback (most recent call last)",
      "\u001b[0;32m<ipython-input-41-0f8fad85c574>\u001b[0m in \u001b[0;36m<module>\u001b[0;34m()\u001b[0m\n\u001b[1;32m     80\u001b[0m \u001b[0;34m\u001b[0m\u001b[0m\n\u001b[1;32m     81\u001b[0m         \u001b[0;31m# generator loss\u001b[0m\u001b[0;34m\u001b[0m\u001b[0;34m\u001b[0m\u001b[0;34m\u001b[0m\u001b[0m\n\u001b[0;32m---> 82\u001b[0;31m         \u001b[0mloss_generator_dirty\u001b[0m \u001b[0;34m=\u001b[0m \u001b[0mloss_gan\u001b[0m\u001b[0;34m(\u001b[0m\u001b[0mguess_fake_dirty\u001b[0m\u001b[0;34m,\u001b[0m \u001b[0mtrue_arr\u001b[0m\u001b[0;34m)\u001b[0m \u001b[0;34m*\u001b[0m \u001b[0mloss_gan_mult\u001b[0m\u001b[0;34m\u001b[0m\u001b[0;34m\u001b[0m\u001b[0m\n\u001b[0m\u001b[1;32m     83\u001b[0m         \u001b[0mloss_generator_clean\u001b[0m \u001b[0;34m=\u001b[0m \u001b[0mloss_gan\u001b[0m\u001b[0;34m(\u001b[0m\u001b[0mguess_fake_clean\u001b[0m\u001b[0;34m,\u001b[0m \u001b[0mtrue_arr\u001b[0m\u001b[0;34m)\u001b[0m \u001b[0;34m*\u001b[0m \u001b[0mloss_gan_mult\u001b[0m\u001b[0;34m\u001b[0m\u001b[0;34m\u001b[0m\u001b[0m\n\u001b[1;32m     84\u001b[0m \u001b[0;34m\u001b[0m\u001b[0m\n",
      "\u001b[0;32m/usr/lib/python3/dist-packages/torch/nn/modules/module.py\u001b[0m in \u001b[0;36m__call__\u001b[0;34m(self, *input, **kwargs)\u001b[0m\n\u001b[1;32m    530\u001b[0m             \u001b[0mresult\u001b[0m \u001b[0;34m=\u001b[0m \u001b[0mself\u001b[0m\u001b[0;34m.\u001b[0m\u001b[0m_slow_forward\u001b[0m\u001b[0;34m(\u001b[0m\u001b[0;34m*\u001b[0m\u001b[0minput\u001b[0m\u001b[0;34m,\u001b[0m \u001b[0;34m**\u001b[0m\u001b[0mkwargs\u001b[0m\u001b[0;34m)\u001b[0m\u001b[0;34m\u001b[0m\u001b[0;34m\u001b[0m\u001b[0m\n\u001b[1;32m    531\u001b[0m         \u001b[0;32melse\u001b[0m\u001b[0;34m:\u001b[0m\u001b[0;34m\u001b[0m\u001b[0;34m\u001b[0m\u001b[0m\n\u001b[0;32m--> 532\u001b[0;31m             \u001b[0mresult\u001b[0m \u001b[0;34m=\u001b[0m \u001b[0mself\u001b[0m\u001b[0;34m.\u001b[0m\u001b[0mforward\u001b[0m\u001b[0;34m(\u001b[0m\u001b[0;34m*\u001b[0m\u001b[0minput\u001b[0m\u001b[0;34m,\u001b[0m \u001b[0;34m**\u001b[0m\u001b[0mkwargs\u001b[0m\u001b[0;34m)\u001b[0m\u001b[0;34m\u001b[0m\u001b[0;34m\u001b[0m\u001b[0m\n\u001b[0m\u001b[1;32m    533\u001b[0m         \u001b[0;32mfor\u001b[0m \u001b[0mhook\u001b[0m \u001b[0;32min\u001b[0m \u001b[0mself\u001b[0m\u001b[0;34m.\u001b[0m\u001b[0m_forward_hooks\u001b[0m\u001b[0;34m.\u001b[0m\u001b[0mvalues\u001b[0m\u001b[0;34m(\u001b[0m\u001b[0;34m)\u001b[0m\u001b[0;34m:\u001b[0m\u001b[0;34m\u001b[0m\u001b[0;34m\u001b[0m\u001b[0m\n\u001b[1;32m    534\u001b[0m             \u001b[0mhook_result\u001b[0m \u001b[0;34m=\u001b[0m \u001b[0mhook\u001b[0m\u001b[0;34m(\u001b[0m\u001b[0mself\u001b[0m\u001b[0;34m,\u001b[0m \u001b[0minput\u001b[0m\u001b[0;34m,\u001b[0m \u001b[0mresult\u001b[0m\u001b[0;34m)\u001b[0m\u001b[0;34m\u001b[0m\u001b[0;34m\u001b[0m\u001b[0m\n",
      "\u001b[0;32m/usr/lib/python3/dist-packages/torch/nn/modules/loss.py\u001b[0m in \u001b[0;36mforward\u001b[0;34m(self, input, target)\u001b[0m\n\u001b[1;32m    429\u001b[0m \u001b[0;34m\u001b[0m\u001b[0m\n\u001b[1;32m    430\u001b[0m     \u001b[0;32mdef\u001b[0m \u001b[0mforward\u001b[0m\u001b[0;34m(\u001b[0m\u001b[0mself\u001b[0m\u001b[0;34m,\u001b[0m \u001b[0minput\u001b[0m\u001b[0;34m,\u001b[0m \u001b[0mtarget\u001b[0m\u001b[0;34m)\u001b[0m\u001b[0;34m:\u001b[0m\u001b[0;34m\u001b[0m\u001b[0;34m\u001b[0m\u001b[0m\n\u001b[0;32m--> 431\u001b[0;31m         \u001b[0;32mreturn\u001b[0m \u001b[0mF\u001b[0m\u001b[0;34m.\u001b[0m\u001b[0mmse_loss\u001b[0m\u001b[0;34m(\u001b[0m\u001b[0minput\u001b[0m\u001b[0;34m,\u001b[0m \u001b[0mtarget\u001b[0m\u001b[0;34m,\u001b[0m \u001b[0mreduction\u001b[0m\u001b[0;34m=\u001b[0m\u001b[0mself\u001b[0m\u001b[0;34m.\u001b[0m\u001b[0mreduction\u001b[0m\u001b[0;34m)\u001b[0m\u001b[0;34m\u001b[0m\u001b[0;34m\u001b[0m\u001b[0m\n\u001b[0m\u001b[1;32m    432\u001b[0m \u001b[0;34m\u001b[0m\u001b[0m\n\u001b[1;32m    433\u001b[0m \u001b[0;34m\u001b[0m\u001b[0m\n",
      "\u001b[0;32m/usr/lib/python3/dist-packages/torch/nn/functional.py\u001b[0m in \u001b[0;36mmse_loss\u001b[0;34m(input, target, size_average, reduce, reduction)\u001b[0m\n\u001b[1;32m   2214\u001b[0m     \u001b[0;32melse\u001b[0m\u001b[0;34m:\u001b[0m\u001b[0;34m\u001b[0m\u001b[0;34m\u001b[0m\u001b[0m\n\u001b[1;32m   2215\u001b[0m         \u001b[0mexpanded_input\u001b[0m\u001b[0;34m,\u001b[0m \u001b[0mexpanded_target\u001b[0m \u001b[0;34m=\u001b[0m \u001b[0mtorch\u001b[0m\u001b[0;34m.\u001b[0m\u001b[0mbroadcast_tensors\u001b[0m\u001b[0;34m(\u001b[0m\u001b[0minput\u001b[0m\u001b[0;34m,\u001b[0m \u001b[0mtarget\u001b[0m\u001b[0;34m)\u001b[0m\u001b[0;34m\u001b[0m\u001b[0;34m\u001b[0m\u001b[0m\n\u001b[0;32m-> 2216\u001b[0;31m         \u001b[0mret\u001b[0m \u001b[0;34m=\u001b[0m \u001b[0mtorch\u001b[0m\u001b[0;34m.\u001b[0m\u001b[0m_C\u001b[0m\u001b[0;34m.\u001b[0m\u001b[0m_nn\u001b[0m\u001b[0;34m.\u001b[0m\u001b[0mmse_loss\u001b[0m\u001b[0;34m(\u001b[0m\u001b[0mexpanded_input\u001b[0m\u001b[0;34m,\u001b[0m \u001b[0mexpanded_target\u001b[0m\u001b[0;34m,\u001b[0m \u001b[0m_Reduction\u001b[0m\u001b[0;34m.\u001b[0m\u001b[0mget_enum\u001b[0m\u001b[0;34m(\u001b[0m\u001b[0mreduction\u001b[0m\u001b[0;34m)\u001b[0m\u001b[0;34m)\u001b[0m\u001b[0;34m\u001b[0m\u001b[0;34m\u001b[0m\u001b[0m\n\u001b[0m\u001b[1;32m   2217\u001b[0m     \u001b[0;32mreturn\u001b[0m \u001b[0mret\u001b[0m\u001b[0;34m\u001b[0m\u001b[0;34m\u001b[0m\u001b[0m\n\u001b[1;32m   2218\u001b[0m \u001b[0;34m\u001b[0m\u001b[0m\n",
      "\u001b[0;31mRuntimeError\u001b[0m: expected device cuda:0 but got device cpu"
     ]
    }
   ],
   "source": [
    "#start with models\n",
    "generator_clean = CycleGenerator() # dirty to clean\n",
    "discriminator_clean = CycleDiscriminator() # clean is fake/real - close to 1 if real. close to 0 if fake\n",
    "\n",
    "generator_dirty = CycleGenerator() # clean to dirty\n",
    "discriminator_dirty = CycleDiscriminator() # dirty is fake/real\n",
    "\n",
    "# turn on cuda\n",
    "if use_cuda:\n",
    "    generator_clean.cuda()\n",
    "    discriminator_clean.cuda()\n",
    "    generator_dirty.cuda()\n",
    "    discriminator_dirty.cuda()\n",
    "\n",
    "# init weights for stuff, apparently kaiming is better for conv nets?\n",
    "generator_clean.apply(init_func)\n",
    "discriminator_clean.apply(init_func)\n",
    "generator_dirty.apply(init_func)\n",
    "discriminator_dirty.apply(init_func)\n",
    "\n",
    "# loss fns\n",
    "# also can add identity loss mentioned, but it is mainly for color channels. it is l1 loss as well\n",
    "loss_gan = nn.MSELoss()\n",
    "loss_cycle = nn.L1Loss()\n",
    "loss_identity = nn.L1Loss()\n",
    "\n",
    "loss_gan_mult = 5.0\n",
    "loss_cycle_mult = 10.0\n",
    "loss_identity_mult = 1.0\n",
    "\n",
    "# optimizers\n",
    "# use default recommended values for first and second momentums on gradient accumulation\n",
    "opt_generators = optim.Adam(itertools.chain(generator_clean.parameters(),\n",
    "                                           generator_dirty.parameters()),\n",
    "                           lr=lr, betas=(0.5, 0.999))\n",
    "opt_d_clean = optim.Adam(discriminator_clean.parameters(), lr=lr, betas=(0.5, 0.999))\n",
    "opt_d_dirty = optim.Adam(discriminator_dirty.parameters(), lr=lr, betas=(0.5, 0.999))\n",
    "\n",
    "scheduler_g = optim.lr_scheduler.LambdaLR(opt_generators, lr_lambda=custom_lr(n_epochs, starting_epoch, decay_epoch))\n",
    "scheduler_d_clean = optim.lr_scheduler.LambdaLR(opt_d_clean, lr_lambda=custom_lr(n_epochs, starting_epoch, decay_epoch))\n",
    "scheduler_d_dirty = optim.lr_scheduler.LambdaLR(opt_d_dirty, lr_lambda=custom_lr(n_epochs, starting_epoch, decay_epoch))\n",
    "\n",
    "\n",
    "# image buffers for gans\n",
    "fake_img_buffer_clean = ImageBuffer()\n",
    "fake_img_buffer_dirty = ImageBuffer()\n",
    "\n",
    "# true / false arrays\n",
    "true_arr = torch.ones(batch_size)\n",
    "false_arr = torch.ones(batch_size)\n",
    "\n",
    "\n",
    "for epoch in range(starting_epoch, n_epochs):\n",
    "    for i, batch in enumerate(training_generator):\n",
    "        print('we are on step {0} for epoch {1}'.format(i, epoch))\n",
    "        real_dirty_imgs = batch['dirty']\n",
    "        real_clean_imgs = batch['clean']\n",
    "        print(real_dirty_imgs.shape)\n",
    "        if use_cuda:\n",
    "            real_dirty_imgs = real_dirty_imgs.cuda()\n",
    "            real_clean_imgs = real_clean_imgs.cuda()\n",
    "        # generators\n",
    "        opt_generators.zero_grad()\n",
    "        \n",
    "        # get results\n",
    "        fake_dirty = generator_dirty(real_clean_imgs)\n",
    "        fake_clean = generator_clean(real_dirty_imgs)\n",
    "        \n",
    "        # discriminators try to guess\n",
    "        print('debug step')\n",
    "        print(fake_dirty.shape)\n",
    "        guess_fake_dirty = discriminator_dirty(fake_dirty)\n",
    "        guess_fake_clean = discriminator_clean(fake_clean)\n",
    "        print('guess_fake_dirty shape')\n",
    "        print(guess_fake_dirty.shape)\n",
    "        print(guess_fake_dirty[0])\n",
    "        print('true arr shape')\n",
    "        print(true_arr.shape)\n",
    "        print(true_arr[0])\n",
    "        \n",
    "        # generator loss\n",
    "        loss_generator_dirty = loss_gan(guess_fake_dirty, true_arr) * loss_gan_mult\n",
    "        loss_generator_clean = loss_gan(guess_fake_clean, true_arr) * loss_gan_mult\n",
    "        \n",
    "        # cycle loss\n",
    "        cycled_dirty = generator_dirty(fake_clean)\n",
    "        cycled_clean = generator_clean(fake_dirty)\n",
    "        \n",
    "        loss_cycled_dirty = loss_cycle(cycled_dirty, real_dirty_imgs) * loss_cycle_mult\n",
    "        loss_cycled_clean = loss_cycle(cycled_clean, real_clean_imgs) * loss_cycle_mult\n",
    "        \n",
    "        # identity loss\n",
    "        identity_dirty = generator_dirty(real_dirty_imgs)\n",
    "        identity_clean = generator_clean(real_clean_imgs)\n",
    "        \n",
    "        loss_identity_dirty = loss_identity(identity_dirty, real_dirty_imgs) * loss_identity_mult\n",
    "        loss_identity_clean = loss_identity(identity_clean, real_clean_imgs) * loss_identity_mult\n",
    "        \n",
    "        total_gen_loss = loss_generator_dirty + loss_generator_clean + loss_cycled_dirty + loss_cycled_clean + loss_identity_dirty + loss_identity_clean\n",
    "        total_gen_loss.backward()\n",
    "        \n",
    "        opt_generators.step()\n",
    "        \n",
    "        # discriminator for dirty imgs\n",
    "        opt_d_dirty.zero_grad()\n",
    "        \n",
    "        # real img\n",
    "        guess_real_dirty = discriminator_dirty(real_dirty_imgs)\n",
    "        loss_d_real_dirty = loss_gan(guess_real_dirty, true_arr)\n",
    "        \n",
    "        # fake imgs\n",
    "        fake_dirty = fake_img_buffer_dirty.push_and_pop(fake_dirty)\n",
    "        guess_fake_dirty = discriminator_dirty(fake_dirty)\n",
    "        loss_d_fake_dirty = loss_gan(guess_fake_dirty, false_arr)\n",
    "        \n",
    "        # total loss\n",
    "        total_d_dirty_loss = loss_d_real_dirty + loss_d_fake_dirty\n",
    "        total_d_dirty_loss.backward()\n",
    "        \n",
    "        opt_d_dirty.step()\n",
    "        \n",
    "        # discriminator for clean imgs\n",
    "        opt_d_clean.zero_grad()\n",
    "        \n",
    "        # real img\n",
    "        guess_real_clean = discriminator_clean(real_clean_imgs)\n",
    "        loss_d_real_clean = loss_gan(guess_real_clean, true_arr)\n",
    "        \n",
    "        # fake imgs\n",
    "        fake_clean = fake_img_buffer_clean.push_and_pop(fake_clean)\n",
    "        guess_fake_clean = discriminator_clean(fake_clean)\n",
    "        loss_d_fake_clean = loss_gan(guess_fake_clean, false_arr)\n",
    "        \n",
    "        # total loss\n",
    "        total_d_clean_loss = loss_d_real_clean + loss_d_fake_clean\n",
    "        total_d_clean_loss.backward()\n",
    "        \n",
    "        opt_d_clean.step()\n",
    "        \n",
    "    scheduler_g.step()\n",
    "    scheduler_d_dirty.step()\n",
    "    scheduler_d_clean.step()\n",
    "        "
   ]
  },
  {
   "cell_type": "code",
   "execution_count": null,
   "metadata": {},
   "outputs": [],
   "source": []
  }
 ],
 "metadata": {
  "kernelspec": {
   "display_name": "Python 3",
   "language": "python",
   "name": "python3"
  },
  "language_info": {
   "codemirror_mode": {
    "name": "ipython",
    "version": 3
   },
   "file_extension": ".py",
   "mimetype": "text/x-python",
   "name": "python",
   "nbconvert_exporter": "python",
   "pygments_lexer": "ipython3",
   "version": "3.6.9"
  }
 },
 "nbformat": 4,
 "nbformat_minor": 2
}
